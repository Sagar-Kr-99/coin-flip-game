{
 "cells": [
  {
   "cell_type": "code",
   "execution_count": 82,
   "metadata": {},
   "outputs": [],
   "source": [
    "import numpy as np\n",
    "import matplotlib.pyplot as plt\n",
    "import seaborn as sns"
   ]
  },
  {
   "cell_type": "markdown",
   "metadata": {},
   "source": [
    "\n"
   ]
  },
  {
   "cell_type": "markdown",
   "metadata": {},
   "source": [
    "# Game 1"
   ]
  },
  {
   "cell_type": "code",
   "execution_count": 83,
   "metadata": {},
   "outputs": [
    {
     "name": "stdout",
     "output_type": "stream",
     "text": [
      "Game 1 Mean:  19.83\n",
      "Game 1 Prob Positive:  0.97\n",
      "\n",
      "\n"
     ]
    }
   ],
   "source": [
    "simulation=10000 #number of monte carlo simulation\n",
    "games=100       #number of times the game is played\n",
    "threshold=40    #threshold where if greater then or equal to win\n",
    "bet=1           #dollar bet for the game\n",
    "\n",
    "\n",
    "final_1=[]\n",
    "for i in range(simulation):\n",
    "    ans=[]\n",
    "    for j in range(games):\n",
    "        n=int(np.random.uniform(0,1)*100)   #get a random number to see who wins\n",
    "        if n>=threshold:\n",
    "            ans.append(bet)\n",
    "        else: \n",
    "            ans.append(-bet)\n",
    "    final_1.append(sum(ans))\n",
    "    \n",
    "prob1=round(sum([1 for i in final_1 if i>0])/simulation, 2)\n",
    "print('Game 1 Mean: ', round(np.mean(final_1), 2))\n",
    "print('Game 1 Prob Positive: ', prob1)\n",
    "print('\\n')\n"
   ]
  },
  {
   "cell_type": "code",
   "execution_count": null,
   "metadata": {},
   "outputs": [],
   "source": []
  },
  {
   "cell_type": "markdown",
   "metadata": {},
   "source": [
    "# Game 2"
   ]
  },
  {
   "cell_type": "code",
   "execution_count": 84,
   "metadata": {},
   "outputs": [
    {
     "name": "stdout",
     "output_type": "stream",
     "text": [
      "Game 1 Mean:  20.14\n",
      "Game 1 Prob Positive:  0.63\n",
      "\n",
      "\n"
     ]
    }
   ],
   "source": [
    "simulation=10000 #number of monte carlo simulation\n",
    "games=10       #number of times the game is played\n",
    "threshold=40    #threshold where if greater then or equal to win\n",
    "bet=10           #dollar bet for the game\n",
    "\n",
    "\n",
    "final_2=[]\n",
    "for i in range(simulation):\n",
    "    ans=[]\n",
    "    for j in range(games):\n",
    "        n=int(np.random.uniform(0,1)*100)   #get a random number to see who wins\n",
    "        if n>=threshold:\n",
    "            ans.append(bet)\n",
    "        else: \n",
    "            ans.append(-bet)\n",
    "    final_2.append(sum(ans))\n",
    "    \n",
    "prob2=round(sum([1 for i in final_2 if i>0])/simulation, 2)\n",
    "print('Game 1 Mean: ', round(np.mean(final_2), 2))\n",
    "print('Game 1 Prob Positive: ',prob2)\n",
    "print('\\n')"
   ]
  },
  {
   "cell_type": "code",
   "execution_count": null,
   "metadata": {},
   "outputs": [],
   "source": []
  },
  {
   "cell_type": "markdown",
   "metadata": {},
   "source": [
    "# Game 3"
   ]
  },
  {
   "cell_type": "code",
   "execution_count": 85,
   "metadata": {},
   "outputs": [
    {
     "name": "stdout",
     "output_type": "stream",
     "text": [
      "Game 1 Mean:  18.22\n",
      "Game 1 Prob Positive:  0.59\n",
      "\n",
      "\n"
     ]
    }
   ],
   "source": [
    "simulation=10000 #number of monte carlo simulation\n",
    "games=1       #number of times the game is played\n",
    "threshold=40    #threshold where if greater then or equal to win\n",
    "bet=100           #dollar bet for the game\n",
    "\n",
    "\n",
    "final_3=[]\n",
    "for i in range(simulation):\n",
    "    ans=[]\n",
    "    for j in range(games):\n",
    "        n=int(np.random.uniform(0,1)*100)   #get a random number to see who wins\n",
    "        if n>=threshold:\n",
    "            ans.append(bet)\n",
    "        else: \n",
    "            ans.append(-bet)\n",
    "    final_3.append(sum(ans))\n",
    "prob3=round(sum([1 for i in final_3 if i>0])/simulation, 2)\n",
    "print('Game 1 Mean: ', round(np.mean(final_3), 2))\n",
    "print('Game 1 Prob Positive: ', prob3)\n",
    "print('\\n')"
   ]
  },
  {
   "cell_type": "code",
   "execution_count": null,
   "metadata": {},
   "outputs": [],
   "source": [
    "\n",
    "    "
   ]
  },
  {
   "cell_type": "code",
   "execution_count": 86,
   "metadata": {},
   "outputs": [
    {
     "data": {
      "image/png": "[encoded data removed]",
      "text/plain": [
       "<Figure size 576x432 with 1 Axes>"
      ]
     },
     "metadata": {
      "needs_background": "light"
     },
     "output_type": "display_data"
    }
   ],
   "source": [
    "# Histogram that shows the distribution of the Monte Carlo Results for 2 spending levels\n",
    "fig, ax = plt.subplots(figsize=(8,6))\n",
    "sns.distplot(final_1, kde=False, bins=60, label='Play 100 Times')\n",
    "sns.distplot(final_2, kde=False, bins=60, label='Play 10 Times')\n",
    "sns.distplot(final_3, kde=False, bins=60, label='Play 1 Time', color='pink')\n",
    "\n",
    "\n",
    "ax.set_xlabel('Money Won by You (The Player)', fontsize=16)\n",
    "ax.set_ylabel('Frequency',fontsize=16)\n",
    "plt.legend()\n",
    "plt.tight_layout()\n",
    "\n",
    "plt.savefig(fname='game_hist', dpi=150)\n",
    "plt.show()"
   ]
  },
  {
   "cell_type": "code",
   "execution_count": 87,
   "metadata": {},
   "outputs": [],
   "source": [
    "y=[prob1*100,prob2*100,prob3*100,]"
   ]
  },
  {
   "cell_type": "code",
   "execution_count": 88,
   "metadata": {},
   "outputs": [],
   "source": [
    "x=['Play 100 Time','Play 10 Time','Play 1 Time']"
   ]
  },
  {
   "cell_type": "code",
   "execution_count": 89,
   "metadata": {},
   "outputs": [
    {
     "data": {
      "image/png": "[encoded data removed]",
      "text/plain": [
       "<Figure size 576x432 with 1 Axes>"
      ]
     },
     "metadata": {
      "needs_background": "light"
     },
     "output_type": "display_data"
    }
   ],
   "source": [
    "fig, ax = plt.subplots(figsize=(8,6))\n",
    "plt.bar(x,y)\n",
    "plt.title('Probability of Making Money for Each Game')\n",
    "\n",
    "plt.savefig(fname='Probability of Making Money for Each Game', dpi=150)\n",
    "plt.show()"
   ]
  },
  {
   "cell_type": "code",
   "execution_count": null,
   "metadata": {},
   "outputs": [],
   "source": []
  },
  {
   "cell_type": "code",
   "execution_count": null,
   "metadata": {},
   "outputs": [],
   "source": []
  },
  {
   "cell_type": "code",
   "execution_count": null,
   "metadata": {},
   "outputs": [],
   "source": []
  }
 ],
 "metadata": {
  "kernelspec": {
   "display_name": "Python 3",
   "language": "python",
   "name": "python3"
  },
  "language_info": {
   "codemirror_mode": {
    "name": "ipython",
    "version": 3
   },
   "file_extension": ".py",
   "mimetype": "text/x-python",
   "name": "python",
   "nbconvert_exporter": "python",
   "pygments_lexer": "ipython3",
   "version": "3.8.3"
  }
 },
 "nbformat": 4,
 "nbformat_minor": 4
}
